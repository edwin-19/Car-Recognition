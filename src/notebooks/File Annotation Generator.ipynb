{
 "cells": [
  {
   "cell_type": "markdown",
   "metadata": {},
   "source": [
    "# Generate annotation files\n",
    "- Convert current mat file formats to a more easy readable format like csv\n",
    "- Currently done:\n",
    "    - Train file with matching classes\n",
    "    - Test files need to be converted as well"
   ]
  },
  {
   "cell_type": "code",
   "execution_count": 1,
   "metadata": {},
   "outputs": [],
   "source": [
    "import scipy.io as spio\n",
    "import numpy as np\n",
    "import pandas as pd"
   ]
  },
  {
   "cell_type": "code",
   "execution_count": 2,
   "metadata": {},
   "outputs": [],
   "source": [
    "# Train mat files\n",
    "train_mat = spio.loadmat('car_devkit/devkit/cars_train_annos.mat')\n",
    "train_mat = {k:v for k, v in train_mat.items() if k[0] != '_'}\n",
    "\n",
    "# Test mat file \n",
    "test_mat = spio.loadmat('car_devkit/devkit/cars_test_annos.mat')\n",
    "test_mat = {k:v for k, v in test_mat.items() if k[0] != '_'}"
   ]
  },
  {
   "cell_type": "code",
   "execution_count": 3,
   "metadata": {},
   "outputs": [],
   "source": [
    "class_mat = spio.loadmat('car_devkit/devkit/cars_meta.mat')\n",
    "class_mat = {k:v for k, v in class_mat.items() if k[0] != '_'}"
   ]
  },
  {
   "cell_type": "code",
   "execution_count": 15,
   "metadata": {},
   "outputs": [],
   "source": [
    "classess = {'class': []}\n",
    "for k, v in class_mat.items():\n",
    "    for annot in np.transpose(v[0]):\n",
    "        for a in annot:\n",
    "            classess['class'].append(a)"
   ]
  },
  {
   "cell_type": "code",
   "execution_count": 22,
   "metadata": {},
   "outputs": [],
   "source": [
    "df_class = pd.DataFrame(classess)\n",
    "df_class.to_csv('classess.csv', index=False)"
   ]
  },
  {
   "cell_type": "code",
   "execution_count": 19,
   "metadata": {},
   "outputs": [],
   "source": [
    "bbox_x1 = []\n",
    "bbox_x2 = []\n",
    "bbox_y1 = []\n",
    "bbox_y2 = []\n",
    "temp_class_name = []\n",
    "fname = []\n",
    "\n",
    "for k, v in train_mat.items():\n",
    "    for annot in np.transpose(v[0]):\n",
    "        for i, a in enumerate(annot):\n",
    "            if i == 0:\n",
    "                bbox_x1.append(np.asscalar(a))\n",
    "            elif i == 1:\n",
    "                bbox_y1.append(np.asscalar(a))\n",
    "            elif i == 2:\n",
    "                bbox_x2.append(np.asscalar(a))\n",
    "            elif i == 3:\n",
    "                bbox_y2.append(np.asscalar(a))\n",
    "            elif i == 4:\n",
    "                temp_class_name.append(np.asscalar(a))\n",
    "            elif i == 5:\n",
    "                fname.append(np.asscalar(a))\n",
    "                \n",
    "class_name = []\n",
    "for c_name in temp_class_name:\n",
    "    class_name.append(np.asscalar(class_mat['class_names'][0][c_name - 1]))"
   ]
  },
  {
   "cell_type": "code",
   "execution_count": 20,
   "metadata": {},
   "outputs": [],
   "source": [
    "train_df = pd.DataFrame(\n",
    "    {\n",
    "        'bbox_x1': bbox_x1,\n",
    "        'bbox_x2': bbox_x2,\n",
    "        'bbox_y1': bbox_y1,\n",
    "        'bbox_y2': bbox_y2,\n",
    "        'class': class_name,\n",
    "        'fname': fname\n",
    "    }\n",
    ")"
   ]
  },
  {
   "cell_type": "code",
   "execution_count": 21,
   "metadata": {},
   "outputs": [],
   "source": [
    "train_df.to_csv('car_train.csv', index=False)"
   ]
  },
  {
   "cell_type": "code",
   "execution_count": 45,
   "metadata": {},
   "outputs": [],
   "source": [
    "test_bbox_x1 = []\n",
    "test_bbox_x2 = []\n",
    "test_bbox_y1 = []\n",
    "test_bbox_y2 = []\n",
    "test_fname = []\n",
    "\n",
    "for k, v in train_mat.items():\n",
    "    for annot in np.transpose(v[0]):\n",
    "        for i, a in enumerate(annot):\n",
    "            if i == 0:\n",
    "                test_bbox_x1.append(np.asscalar(a))\n",
    "            elif i == 1:\n",
    "                test_bbox_y1.append(np.asscalar(a))\n",
    "            elif i == 2:\n",
    "                test_bbox_x2.append(np.asscalar(a))\n",
    "            elif i == 3:\n",
    "                test_bbox_y2.append(np.asscalar(a))\n",
    "            elif i == 4:\n",
    "                test_fname.append(np.asscalar(a))"
   ]
  },
  {
   "cell_type": "code",
   "execution_count": 46,
   "metadata": {},
   "outputs": [],
   "source": [
    "test_df = pd.DataFrame(\n",
    "    {\n",
    "        'bbox_x1': test_bbox_x1,\n",
    "        'bbox_x2': test_bbox_x2,\n",
    "        'bbox_y1': test_bbox_y1,\n",
    "        'bbox_y2': test_bbox_y2,\n",
    "        'fname': test_fname\n",
    "    }\n",
    ")"
   ]
  },
  {
   "cell_type": "code",
   "execution_count": 47,
   "metadata": {},
   "outputs": [],
   "source": [
    "test_df.to_csv('car_test.csv', index=False)"
   ]
  }
 ],
 "metadata": {
  "kernelspec": {
   "display_name": "Python 3",
   "language": "python",
   "name": "python3"
  },
  "language_info": {
   "codemirror_mode": {
    "name": "ipython",
    "version": 3
   },
   "file_extension": ".py",
   "mimetype": "text/x-python",
   "name": "python",
   "nbconvert_exporter": "python",
   "pygments_lexer": "ipython3",
   "version": "3.6.8"
  }
 },
 "nbformat": 4,
 "nbformat_minor": 2
}
